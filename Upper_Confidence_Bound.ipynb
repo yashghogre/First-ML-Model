{
  "nbformat": 4,
  "nbformat_minor": 0,
  "metadata": {
    "colab": {
      "provenance": [],
      "authorship_tag": "ABX9TyP1yl6CMDujZg+yjNVf3oM9",
      "include_colab_link": true
    },
    "kernelspec": {
      "name": "python3",
      "display_name": "Python 3"
    },
    "language_info": {
      "name": "python"
    }
  },
  "cells": [
    {
      "cell_type": "markdown",
      "metadata": {
        "id": "view-in-github",
        "colab_type": "text"
      },
      "source": [
        "<a href=\"https://colab.research.google.com/github/yashghogre/First-ML-Model/blob/main/Upper_Confidence_Bound.ipynb\" target=\"_parent\"><img src=\"https://colab.research.google.com/assets/colab-badge.svg\" alt=\"Open In Colab\"/></a>"
      ]
    },
    {
      "cell_type": "code",
      "execution_count": 9,
      "metadata": {
        "id": "24B_A0eoomfJ"
      },
      "outputs": [],
      "source": [
        "import numpy as np\n",
        "import pandas as pd\n",
        "import matplotlib.pyplot as plt"
      ]
    },
    {
      "cell_type": "code",
      "source": [
        "dataset = pd.read_csv('Ads_CTR_Optimisation.csv')"
      ],
      "metadata": {
        "id": "mxLgT8sitLKc"
      },
      "execution_count": 10,
      "outputs": []
    },
    {
      "cell_type": "code",
      "source": [
        "N = 10000\n",
        "d = 10\n",
        "ads_selected = []\n",
        "number_of_selections = [0] * d\n",
        "sum_of_rewards = [0] * d\n",
        "total_reward = 0"
      ],
      "metadata": {
        "id": "Ckp78kPfuqhK"
      },
      "execution_count": 11,
      "outputs": []
    },
    {
      "cell_type": "code",
      "source": [
        "import math\n",
        "for n in range(0, N):\n",
        "  ad = 0\n",
        "  max_upper_bound = 0\n",
        "  for i in range(0, d):\n",
        "    if (number_of_selections[i] > 0):\n",
        "      average_reward = sum_of_rewards[i] / number_of_selections[i]\n",
        "      delta_i = math.sqrt(3/2 * math.log(n + 1) / number_of_selections[i])\n",
        "      upper_bound = average_reward + delta_i\n",
        "    else:\n",
        "      upper_bound = 1e400\n",
        "    if (upper_bound > max_upper_bound):\n",
        "      max_upper_bound = upper_bound\n",
        "      ad = i\n",
        "  ads_selected.append(ad)\n",
        "  number_of_selections[ad] += 1\n",
        "  reward = dataset.values[n, ad]\n",
        "  sum_of_rewards += reward\n",
        "  total_reward += reward"
      ],
      "metadata": {
        "id": "VIZi1xxQvLus"
      },
      "execution_count": 12,
      "outputs": []
    }
  ]
}