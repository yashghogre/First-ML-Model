{
  "nbformat": 4,
  "nbformat_minor": 0,
  "metadata": {
    "colab": {
      "provenance": [],
      "authorship_tag": "ABX9TyPrSDO2SB/7qiWv4bedXZso",
      "include_colab_link": true
    },
    "kernelspec": {
      "name": "python3",
      "display_name": "Python 3"
    },
    "language_info": {
      "name": "python"
    }
  },
  "cells": [
    {
      "cell_type": "markdown",
      "metadata": {
        "id": "view-in-github",
        "colab_type": "text"
      },
      "source": [
        "<a href=\"https://colab.research.google.com/github/yashghogre/First-ML-Model/blob/main/Sample_Apple_Classifier.ipynb\" target=\"_parent\"><img src=\"https://colab.research.google.com/assets/colab-badge.svg\" alt=\"Open In Colab\"/></a>"
      ]
    },
    {
      "cell_type": "code",
      "execution_count": 39,
      "metadata": {
        "id": "cs3qUXmuRBsp"
      },
      "outputs": [],
      "source": [
        "import numpy as np\n",
        "import pandas as pd\n",
        "import matplotlib.pyplot as plt"
      ]
    },
    {
      "cell_type": "code",
      "source": [
        "data = pd.read_csv('apple_quality.csv')\n",
        "data = data.dropna()\n",
        "X = data.iloc[:, 1:-1].values\n",
        "y = data.iloc[:, -1].values"
      ],
      "metadata": {
        "id": "j_jj2KLTRkwr"
      },
      "execution_count": 40,
      "outputs": []
    },
    {
      "cell_type": "code",
      "source": [
        "# from sklearn.preprocessing import OneHotEncoder\n",
        "# from sklearn.compose import ColumnTransformer\n",
        "# ct = ColumnTransformer(transformers = [('encoder', OneHotEncoder(drop = 'if_binary'), [0])], remainder = 'passthrough')\n",
        "# y = np.array(ct.fit_transform(y.reshape(-1, 1)))"
      ],
      "metadata": {
        "id": "a-dj8eTvSQax"
      },
      "execution_count": 41,
      "outputs": []
    },
    {
      "cell_type": "code",
      "source": [
        "from sklearn.preprocessing import LabelEncoder\n",
        "le = LabelEncoder()\n",
        "y = le.fit_transform(y)"
      ],
      "metadata": {
        "id": "goVpmPXKWo7h"
      },
      "execution_count": 42,
      "outputs": []
    },
    {
      "cell_type": "code",
      "source": [
        "y"
      ],
      "metadata": {
        "id": "rMHsH9iiRaqP",
        "colab": {
          "base_uri": "https://localhost:8080/"
        },
        "outputId": "f38ff596-0dbe-468f-ee1f-43465ccb0beb"
      },
      "execution_count": 43,
      "outputs": [
        {
          "output_type": "execute_result",
          "data": {
            "text/plain": [
              "array([1, 1, 0, ..., 0, 1, 1])"
            ]
          },
          "metadata": {},
          "execution_count": 43
        }
      ]
    },
    {
      "cell_type": "code",
      "source": [
        "from sklearn.model_selection import train_test_split\n",
        "X_train, X_test, y_train, y_test = train_test_split(X, y, test_size = 0.2, random_state = 0)"
      ],
      "metadata": {
        "id": "koYCxBLAR8It"
      },
      "execution_count": 44,
      "outputs": []
    },
    {
      "cell_type": "code",
      "source": [
        "from sklearn.linear_model import LogisticRegression\n",
        "clf_log = LogisticRegression()\n",
        "clf_log.fit(X_train, y_train)\n",
        "y_pred_log = clf_log.predict(X_test)"
      ],
      "metadata": {
        "id": "wuHC3tUeXCH4"
      },
      "execution_count": 45,
      "outputs": []
    },
    {
      "cell_type": "code",
      "source": [
        "from sklearn.metrics import confusion_matrix, accuracy_score\n",
        "cm_log = confusion_matrix(y_test, y_pred_log)\n",
        "print(cm_log)\n",
        "acc_log = accuracy_score(y_test, y_pred_log)\n",
        "print(acc_log)"
      ],
      "metadata": {
        "colab": {
          "base_uri": "https://localhost:8080/"
        },
        "id": "OmAUmfPSXaHh",
        "outputId": "452d426e-a7e2-40cb-d97d-c4b03a2b2e6e"
      },
      "execution_count": 46,
      "outputs": [
        {
          "output_type": "stream",
          "name": "stdout",
          "text": [
            "[[310 112]\n",
            " [ 86 292]]\n",
            "0.7525\n"
          ]
        }
      ]
    },
    {
      "cell_type": "code",
      "source": [
        "from sklearn.neighbors import KNeighborsClassifier\n",
        "clf_knn = KNeighborsClassifier(n_neighbors = 5, metric = 'minkowski', p = 2)\n",
        "clf_knn.fit(X_train, y_train)\n",
        "y_pred_knn = clf_knn.predict(X_test)"
      ],
      "metadata": {
        "id": "0I61W9uPXxsl"
      },
      "execution_count": 47,
      "outputs": []
    },
    {
      "cell_type": "code",
      "source": [
        "cm_knn = confusion_matrix(y_test, y_pred_knn)\n",
        "print(cm_knn)\n",
        "acc_knn = accuracy_score(y_test, y_pred_knn)\n",
        "print(acc_knn)"
      ],
      "metadata": {
        "colab": {
          "base_uri": "https://localhost:8080/"
        },
        "id": "Gv9D0Q4tYaFd",
        "outputId": "ec60f94c-5ba7-4c07-b51f-e5166f76b8e2"
      },
      "execution_count": 48,
      "outputs": [
        {
          "output_type": "stream",
          "name": "stdout",
          "text": [
            "[[363  59]\n",
            " [ 28 350]]\n",
            "0.89125\n"
          ]
        }
      ]
    },
    {
      "cell_type": "code",
      "source": [
        "from sklearn.svm import SVC\n",
        "clf_svclin = SVC(kernel= 'linear', random_state = 0)\n",
        "clf_svclin.fit(X_train, y_train)\n",
        "y_pred_svclin = clf_svclin.predict(X_test)"
      ],
      "metadata": {
        "id": "7iAv9K6sYjxI"
      },
      "execution_count": 49,
      "outputs": []
    },
    {
      "cell_type": "code",
      "source": [
        "cm_svclin = confusion_matrix(y_test, y_pred_svclin)\n",
        "print(cm_svclin)\n",
        "acc_svclin = accuracy_score(y_test, y_pred_svclin)\n",
        "print(acc_svclin)"
      ],
      "metadata": {
        "colab": {
          "base_uri": "https://localhost:8080/"
        },
        "id": "9dfSMrwUZBjY",
        "outputId": "6ac594ab-1a53-436c-b770-e88098e746d7"
      },
      "execution_count": 50,
      "outputs": [
        {
          "output_type": "stream",
          "name": "stdout",
          "text": [
            "[[302 120]\n",
            " [ 81 297]]\n",
            "0.74875\n"
          ]
        }
      ]
    },
    {
      "cell_type": "code",
      "source": [
        "from sklearn.svm import SVC\n",
        "clf_svcker = SVC(kernel = 'rbf', random_state = 0)\n",
        "clf_svcker.fit(X_train, y_train)\n",
        "y_pred_svcker = clf_svcker.predict(X_test)"
      ],
      "metadata": {
        "id": "QUpgIGeBZP3R"
      },
      "execution_count": 51,
      "outputs": []
    },
    {
      "cell_type": "code",
      "source": [
        "cm_svcker = confusion_matrix(y_test, y_pred_svcker)\n",
        "print(cm_svcker)\n",
        "acc_svcker = accuracy_score(y_test, y_pred_svcker)\n",
        "print(acc_svcker)"
      ],
      "metadata": {
        "colab": {
          "base_uri": "https://localhost:8080/"
        },
        "id": "nzAfb_PYZiQ7",
        "outputId": "04ca76d3-df5c-4f29-8198-2c805ae470c7"
      },
      "execution_count": 52,
      "outputs": [
        {
          "output_type": "stream",
          "name": "stdout",
          "text": [
            "[[364  58]\n",
            " [ 26 352]]\n",
            "0.895\n"
          ]
        }
      ]
    },
    {
      "cell_type": "code",
      "source": [
        "from sklearn.naive_bayes import GaussianNB\n",
        "clf_nb = GaussianNB()\n",
        "clf_nb.fit(X_train, y_train)\n",
        "y_pred_nb = clf_nb.predict(X_test)"
      ],
      "metadata": {
        "id": "9f1UcPCFZwYu"
      },
      "execution_count": 53,
      "outputs": []
    },
    {
      "cell_type": "code",
      "source": [
        "cm_nb = confusion_matrix(y_test, y_pred_nb)\n",
        "print(cm_nb)\n",
        "acc_nb = accuracy_score(y_test, y_pred_nb)\n",
        "print(acc_nb)"
      ],
      "metadata": {
        "colab": {
          "base_uri": "https://localhost:8080/"
        },
        "id": "99tIfablZ_9D",
        "outputId": "d4b49ccd-adb9-4cba-91e3-3d7368752ecf"
      },
      "execution_count": 54,
      "outputs": [
        {
          "output_type": "stream",
          "name": "stdout",
          "text": [
            "[[308 114]\n",
            " [ 86 292]]\n",
            "0.75\n"
          ]
        }
      ]
    },
    {
      "cell_type": "code",
      "source": [
        "from sklearn.tree import DecisionTreeClassifier\n",
        "clf_dt = DecisionTreeClassifier(criterion = 'entropy', random_state = 0)\n",
        "clf_dt.fit(X_train, y_train)\n",
        "y_pred_dt = clf_dt.predict(X_test)"
      ],
      "metadata": {
        "id": "ovx_SK1TaXRa"
      },
      "execution_count": 55,
      "outputs": []
    },
    {
      "cell_type": "code",
      "source": [
        "cm_dt = confusion_matrix(y_test, y_pred_dt)\n",
        "print(cm_dt)\n",
        "acc_dt = accuracy_score(y_test, y_pred_dt)\n",
        "print(acc_dt)"
      ],
      "metadata": {
        "colab": {
          "base_uri": "https://localhost:8080/"
        },
        "id": "HVQ_4JwDa08a",
        "outputId": "bbf21062-3965-40b1-e43d-72a0f4417a3c"
      },
      "execution_count": 56,
      "outputs": [
        {
          "output_type": "stream",
          "name": "stdout",
          "text": [
            "[[340  82]\n",
            " [ 76 302]]\n",
            "0.8025\n"
          ]
        }
      ]
    },
    {
      "cell_type": "code",
      "source": [
        "from sklearn.ensemble import RandomForestClassifier\n",
        "clf_rf = RandomForestClassifier(n_estimators = 100, criterion = 'entropy', random_state = 0)\n",
        "clf_rf.fit(X_train, y_train)\n",
        "y_pred_rf = clf_rf.predict(X_test)"
      ],
      "metadata": {
        "id": "-IQ-El4EbBZu"
      },
      "execution_count": 61,
      "outputs": []
    },
    {
      "cell_type": "code",
      "source": [
        "cm_rf = confusion_matrix(y_test, y_pred_rf)\n",
        "print(cm_rf)\n",
        "acc_rf = accuracy_score(y_test, y_pred_rf)\n",
        "print(acc_rf)"
      ],
      "metadata": {
        "colab": {
          "base_uri": "https://localhost:8080/"
        },
        "id": "S-JH6FJlbhVO",
        "outputId": "e3da38c3-5a66-468a-fe42-6fc0e1900d5f"
      },
      "execution_count": 62,
      "outputs": [
        {
          "output_type": "stream",
          "name": "stdout",
          "text": [
            "[[367  55]\n",
            " [ 33 345]]\n",
            "0.89\n"
          ]
        }
      ]
    }
  ]
}