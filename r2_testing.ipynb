{
  "nbformat": 4,
  "nbformat_minor": 0,
  "metadata": {
    "colab": {
      "provenance": [],
      "authorship_tag": "ABX9TyNDp1Y4VT+minE+nBfigvId",
      "include_colab_link": true
    },
    "kernelspec": {
      "name": "python3",
      "display_name": "Python 3"
    },
    "language_info": {
      "name": "python"
    }
  },
  "cells": [
    {
      "cell_type": "markdown",
      "metadata": {
        "id": "view-in-github",
        "colab_type": "text"
      },
      "source": [
        "<a href=\"https://colab.research.google.com/github/yashghogre/First-ML-Model/blob/main/r2_testing.ipynb\" target=\"_parent\"><img src=\"https://colab.research.google.com/assets/colab-badge.svg\" alt=\"Open In Colab\"/></a>"
      ]
    },
    {
      "cell_type": "markdown",
      "source": [
        "**Multiple Linear**"
      ],
      "metadata": {
        "id": "nf1E38Ugg8gV"
      }
    },
    {
      "cell_type": "code",
      "execution_count": 1,
      "metadata": {
        "id": "8GLX2o0QbB04"
      },
      "outputs": [],
      "source": [
        "import numpy as np\n",
        "import pandas as pd\n",
        "import matplotlib.pyplot as plt"
      ]
    },
    {
      "cell_type": "code",
      "source": [
        "data = pd.read_csv('Data.csv')\n",
        "X = data.iloc[:, :-1].values\n",
        "y = data.iloc[:, -1].values"
      ],
      "metadata": {
        "id": "NLHNMSM7bKUR"
      },
      "execution_count": 2,
      "outputs": []
    },
    {
      "cell_type": "code",
      "source": [
        "from sklearn.model_selection import train_test_split\n",
        "X_train, X_test, y_train, y_test = train_test_split(X, y, test_size = 0.2, random_state = 0)"
      ],
      "metadata": {
        "id": "Ql9zkUvPbaj-"
      },
      "execution_count": 3,
      "outputs": []
    },
    {
      "cell_type": "code",
      "source": [
        "from sklearn.linear_model import LinearRegression\n",
        "lin_reg = LinearRegression()\n",
        "lin_reg.fit(X_train, y_train)\n",
        "y_pred_lin = lin_reg.predict(X_test)\n",
        "y_pred_lin"
      ],
      "metadata": {
        "colab": {
          "base_uri": "https://localhost:8080/"
        },
        "id": "sMb-0ryZcCTP",
        "outputId": "b2a335f7-4640-4fc7-94d9-e438557d1d69"
      },
      "execution_count": 4,
      "outputs": [
        {
          "output_type": "execute_result",
          "data": {
            "text/plain": [
              "array([431.42761597, 458.56124622, 462.75264705, ..., 469.51835895,\n",
              "       442.41759454, 461.88279939])"
            ]
          },
          "metadata": {},
          "execution_count": 4
        }
      ]
    },
    {
      "cell_type": "code",
      "source": [
        "from sklearn.metrics import r2_score\n",
        "r2_score(y_test, y_pred_lin)"
      ],
      "metadata": {
        "colab": {
          "base_uri": "https://localhost:8080/"
        },
        "id": "cADfInBQcuSC",
        "outputId": "8acce420-846e-494e-9000-627cb09c2f9c"
      },
      "execution_count": 6,
      "outputs": [
        {
          "output_type": "execute_result",
          "data": {
            "text/plain": [
              "0.9325315554761303"
            ]
          },
          "metadata": {},
          "execution_count": 6
        }
      ]
    },
    {
      "cell_type": "markdown",
      "source": [
        "**Decision Tree**"
      ],
      "metadata": {
        "id": "kPeuM4RZhNOl"
      }
    },
    {
      "cell_type": "code",
      "source": [
        "from sklearn.tree import DecisionTreeRegressor\n",
        "dec_reg = DecisionTreeRegressor(random_state = 0)\n",
        "dec_reg.fit(X_train, y_train)\n",
        "y_pred_dec = dec_reg.predict(X_test)\n",
        "y_pred_dec"
      ],
      "metadata": {
        "colab": {
          "base_uri": "https://localhost:8080/"
        },
        "id": "Lzj13FNEc5Bx",
        "outputId": "1cfd8ed6-c781-4e20-edc5-18f68f0cc0d8"
      },
      "execution_count": 7,
      "outputs": [
        {
          "output_type": "execute_result",
          "data": {
            "text/plain": [
              "array([431.28, 459.59, 460.06, ..., 471.46, 437.76, 462.74])"
            ]
          },
          "metadata": {},
          "execution_count": 7
        }
      ]
    },
    {
      "cell_type": "code",
      "source": [
        "from sklearn.metrics import r2_score\n",
        "r2_score(y_test, y_pred_dec)"
      ],
      "metadata": {
        "colab": {
          "base_uri": "https://localhost:8080/"
        },
        "id": "oXwRAfMBdWj2",
        "outputId": "2a879b27-dc72-48be-873a-a68c95b0cb13"
      },
      "execution_count": 8,
      "outputs": [
        {
          "output_type": "execute_result",
          "data": {
            "text/plain": [
              "0.922905874177941"
            ]
          },
          "metadata": {},
          "execution_count": 8
        }
      ]
    },
    {
      "cell_type": "markdown",
      "source": [
        "**Random Forest Regression**"
      ],
      "metadata": {
        "id": "Zfqir1nUhVhG"
      }
    },
    {
      "cell_type": "code",
      "source": [
        "from sklearn.ensemble import RandomForestRegressor\n",
        "rf_reg = RandomForestRegressor(n_estimators = 10, random_state = 0)\n",
        "rf_reg.fit(X_train, y_train)\n",
        "y_pred_rf = rf_reg.predict(X_test)\n",
        "y_pred_rf"
      ],
      "metadata": {
        "colab": {
          "base_uri": "https://localhost:8080/"
        },
        "id": "R27u_uGVdh2i",
        "outputId": "7b33d001-4565-431d-9101-7508dcdebdce"
      },
      "execution_count": 9,
      "outputs": [
        {
          "output_type": "execute_result",
          "data": {
            "text/plain": [
              "array([434.049, 458.785, 463.02 , ..., 469.479, 439.566, 460.385])"
            ]
          },
          "metadata": {},
          "execution_count": 9
        }
      ]
    },
    {
      "cell_type": "code",
      "source": [
        "from sklearn.metrics import r2_score\n",
        "r2_score(y_test, y_pred_rf)"
      ],
      "metadata": {
        "colab": {
          "base_uri": "https://localhost:8080/"
        },
        "id": "R-CMKzuweFLV",
        "outputId": "74b51969-960d-4cf1-e54f-e4380e0c1f5a"
      },
      "execution_count": 10,
      "outputs": [
        {
          "output_type": "execute_result",
          "data": {
            "text/plain": [
              "0.9615908334363876"
            ]
          },
          "metadata": {},
          "execution_count": 10
        }
      ]
    },
    {
      "cell_type": "markdown",
      "source": [
        "**Polynomial Linear Regression**"
      ],
      "metadata": {
        "id": "ePyCAEX3hZov"
      }
    },
    {
      "cell_type": "code",
      "source": [
        "from sklearn.preprocessing import PolynomialFeatures\n",
        "poly_feat = PolynomialFeatures(degree = 4)\n",
        "poly_feat.fit(X_train)\n",
        "X_pf = poly_feat.transform(X_train)\n",
        "X_pf_test = poly_feat.transform(X_test)\n",
        "X_pf"
      ],
      "metadata": {
        "colab": {
          "base_uri": "https://localhost:8080/"
        },
        "id": "IuDYykbDeQlr",
        "outputId": "4f694884-c5b9-459d-d499-fbaba8e539f8"
      },
      "execution_count": 13,
      "outputs": [
        {
          "output_type": "execute_result",
          "data": {
            "text/plain": [
              "array([[1.00000000e+00, 1.12200000e+01, 4.31300000e+01, ...,\n",
              "        6.77242028e+09, 5.38603280e+08, 4.28345379e+07],\n",
              "       [1.00000000e+00, 1.36700000e+01, 5.43000000e+01, ...,\n",
              "        5.87072958e+09, 4.35831980e+08, 3.23553508e+07],\n",
              "       [1.00000000e+00, 3.28400000e+01, 7.79500000e+01, ...,\n",
              "        2.15967876e+09, 9.74822477e+07, 4.40009357e+06],\n",
              "       ...,\n",
              "       [1.00000000e+00, 1.68100000e+01, 3.85200000e+01, ...,\n",
              "        5.86500714e+09, 4.33197009e+08, 3.19964912e+07],\n",
              "       [1.00000000e+00, 1.28000000e+01, 4.11600000e+01, ...,\n",
              "        7.76570573e+09, 6.54642544e+08, 5.51858229e+07],\n",
              "       [1.00000000e+00, 3.23200000e+01, 6.79000000e+01, ...,\n",
              "        1.45623249e+09, 5.49010997e+07, 2.06981424e+06]])"
            ]
          },
          "metadata": {},
          "execution_count": 13
        }
      ]
    },
    {
      "cell_type": "code",
      "source": [
        "from sklearn.linear_model import LinearRegression\n",
        "pol_reg = LinearRegression()\n",
        "pol_reg.fit(X_pf, y_train)\n",
        "y_pred_pol = pol_reg.predict(X_pf_test)\n",
        "y_pred_pol"
      ],
      "metadata": {
        "colab": {
          "base_uri": "https://localhost:8080/"
        },
        "id": "z5D1WXE2fQvL",
        "outputId": "08a590c7-8910-43db-cef6-07b5ca4555f3"
      },
      "execution_count": 16,
      "outputs": [
        {
          "output_type": "execute_result",
          "data": {
            "text/plain": [
              "array([433.94385411, 457.90455377, 460.52460138, ..., 469.52889978,\n",
              "       438.26543131, 461.6649096 ])"
            ]
          },
          "metadata": {},
          "execution_count": 16
        }
      ]
    },
    {
      "cell_type": "code",
      "source": [
        "from sklearn.metrics import r2_score\n",
        "r2_score(y_test, y_pred_pol)"
      ],
      "metadata": {
        "colab": {
          "base_uri": "https://localhost:8080/"
        },
        "id": "Vne8RTlLf9mY",
        "outputId": "678a7846-fa52-4cee-8ac1-d3f579d8b0f4"
      },
      "execution_count": 18,
      "outputs": [
        {
          "output_type": "execute_result",
          "data": {
            "text/plain": [
              "0.9458192809530098"
            ]
          },
          "metadata": {},
          "execution_count": 18
        }
      ]
    },
    {
      "cell_type": "markdown",
      "source": [
        "**Support Vector Regression**"
      ],
      "metadata": {
        "id": "PRLyhcfqiDTx"
      }
    },
    {
      "cell_type": "code",
      "source": [
        "from sklearn.preprocessing import StandardScaler\n",
        "sc_X = StandardScaler()\n",
        "sc_y = StandardScaler()\n",
        "X_svr = sc_X.fit_transform(X_train)\n",
        "y_svr = sc_y.fit_transform(y_train.reshape(-1, 1))\n",
        "X_svr"
      ],
      "metadata": {
        "colab": {
          "base_uri": "https://localhost:8080/"
        },
        "id": "ePiKdZSegvjo",
        "outputId": "75359c2a-b795-4672-c04a-c373d9c39a7d"
      },
      "execution_count": 20,
      "outputs": [
        {
          "output_type": "execute_result",
          "data": {
            "text/plain": [
              "array([[-1.13572795, -0.88685592,  0.67357894,  0.52070558],\n",
              "       [-0.80630243, -0.00971567,  0.45145467,  0.14531044],\n",
              "       [ 1.77128416,  1.84743445,  0.24279248, -1.88374143],\n",
              "       ...,\n",
              "       [-0.38409993, -1.24886277,  0.84522042,  0.13092486],\n",
              "       [-0.9232821 , -1.04155299,  1.54693117,  0.8830852 ],\n",
              "       [ 1.70136528,  1.05824381, -1.20438076, -2.42285818]])"
            ]
          },
          "metadata": {},
          "execution_count": 20
        }
      ]
    },
    {
      "cell_type": "code",
      "source": [
        "from sklearn.svm import SVR\n",
        "svr_reg = SVR(kernel = 'rbf')\n",
        "svr_reg.fit(X_svr, y_svr)\n",
        "y_pred_svr = svr_reg.predict(sc_X.transform(X_test))\n",
        "sc_y.inverse_transform(y_pred_svr.reshape(-1, 1))"
      ],
      "metadata": {
        "colab": {
          "base_uri": "https://localhost:8080/"
        },
        "id": "OgEZ1WZXiyub",
        "outputId": "cafdedfc-52ad-4cb3-8503-43c2a6e37d4d"
      },
      "execution_count": 25,
      "outputs": [
        {
          "output_type": "stream",
          "name": "stderr",
          "text": [
            "/usr/local/lib/python3.10/dist-packages/sklearn/utils/validation.py:1143: DataConversionWarning: A column-vector y was passed when a 1d array was expected. Please change the shape of y to (n_samples, ), for example using ravel().\n",
            "  y = column_or_1d(y, warn=True)\n"
          ]
        },
        {
          "output_type": "execute_result",
          "data": {
            "text/plain": [
              "array([[434.05242921],\n",
              "       [457.93810186],\n",
              "       [461.03113894],\n",
              "       ...,\n",
              "       [470.60268461],\n",
              "       [439.41653548],\n",
              "       [460.91757115]])"
            ]
          },
          "metadata": {},
          "execution_count": 25
        }
      ]
    },
    {
      "cell_type": "code",
      "source": [
        "from sklearn.metrics import r2_score\n",
        "# r2_score(sc_y.inverse_transform(y_svr).reshape(-1, 1), sc_y.inverse_transform(y_pred_svr).reshape(-1, 1))\n",
        "r2_score(y_test, sc_y.inverse_transform(y_pred_svr.reshape(-1, 1)))"
      ],
      "metadata": {
        "colab": {
          "base_uri": "https://localhost:8080/"
        },
        "id": "zKwUCcI-jmg8",
        "outputId": "c5f0a18c-0b32-44a6-b971-01a5e02b305b"
      },
      "execution_count": 31,
      "outputs": [
        {
          "output_type": "execute_result",
          "data": {
            "text/plain": [
              "0.9480784049986258"
            ]
          },
          "metadata": {},
          "execution_count": 31
        }
      ]
    }
  ]
}