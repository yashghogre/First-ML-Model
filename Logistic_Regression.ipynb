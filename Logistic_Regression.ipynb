{
  "nbformat": 4,
  "nbformat_minor": 0,
  "metadata": {
    "colab": {
      "provenance": [],
      "authorship_tag": "ABX9TyMDrZ3nIftGdORunRNQAIze",
      "include_colab_link": true
    },
    "kernelspec": {
      "name": "python3",
      "display_name": "Python 3"
    },
    "language_info": {
      "name": "python"
    }
  },
  "cells": [
    {
      "cell_type": "markdown",
      "metadata": {
        "id": "view-in-github",
        "colab_type": "text"
      },
      "source": [
        "<a href=\"https://colab.research.google.com/github/yashghogre/First-ML-Model/blob/main/Logistic_Regression.ipynb\" target=\"_parent\"><img src=\"https://colab.research.google.com/assets/colab-badge.svg\" alt=\"Open In Colab\"/></a>"
      ]
    },
    {
      "cell_type": "code",
      "execution_count": 1,
      "metadata": {
        "id": "pbElfhIsRzdc"
      },
      "outputs": [],
      "source": [
        "import numpy as np\n",
        "import pandas as pd\n",
        "import matplotlib.pyplot as plt"
      ]
    },
    {
      "cell_type": "code",
      "source": [
        "data = pd.read_csv('Social_Network_Ads.csv')\n",
        "X = data.iloc[: , :-1].values\n",
        "y = data.iloc[: , -1].values"
      ],
      "metadata": {
        "id": "kGcmrdcHR9am"
      },
      "execution_count": 2,
      "outputs": []
    },
    {
      "cell_type": "code",
      "source": [
        "from sklearn.model_selection import train_test_split\n",
        "X_train, X_test, y_train, y_test = train_test_split(X, y, test_size = 0.2, random_state = 0)"
      ],
      "metadata": {
        "id": "bOAl-TOTSQXU"
      },
      "execution_count": 3,
      "outputs": []
    },
    {
      "cell_type": "code",
      "source": [
        "from sklearn.preprocessing import StandardScaler\n",
        "sc = StandardScaler()\n",
        "X_train = sc.fit_transform(X_train)\n",
        "X_test = sc.transform(X_test)\n",
        "X_train"
      ],
      "metadata": {
        "colab": {
          "base_uri": "https://localhost:8080/"
        },
        "id": "KRDJT9ClSn4C",
        "outputId": "61e6a3be-9ea1-4f10-ae6e-9b866dc1df50"
      },
      "execution_count": 4,
      "outputs": [
        {
          "output_type": "execute_result",
          "data": {
            "text/plain": [
              "array([[ 1.92295008e+00,  2.14601566e+00],\n",
              "       [ 2.02016082e+00,  3.78719297e-01],\n",
              "       [-1.38221530e+00, -4.32498705e-01],\n",
              "       [-1.18779381e+00, -1.01194013e+00],\n",
              "       [ 1.92295008e+00, -9.25023920e-01],\n",
              "       [ 3.67578135e-01,  2.91803083e-01],\n",
              "       [ 1.73156642e-01,  1.46942725e-01],\n",
              "       [ 2.02016082e+00,  1.74040666e+00],\n",
              "       [ 7.56421121e-01, -8.38107706e-01],\n",
              "       [ 2.70367388e-01, -2.87638347e-01],\n",
              "       [ 3.67578135e-01, -1.71750061e-01],\n",
              "       [-1.18475597e-01,  2.20395980e+00],\n",
              "       [-1.47942605e+00, -6.35303205e-01],\n",
              "       [-1.28500455e+00, -1.06988428e+00],\n",
              "       [-1.38221530e+00,  4.07691369e-01],\n",
              "       [-1.09058306e+00,  7.55356227e-01],\n",
              "       [-1.47942605e+00, -2.00722133e-01],\n",
              "       [ 9.50842613e-01, -1.06988428e+00],\n",
              "       [ 9.50842613e-01,  5.81523798e-01],\n",
              "       [ 3.67578135e-01,  9.87132798e-01],\n",
              "       [ 5.61999628e-01, -8.96051849e-01],\n",
              "       [-6.04529329e-01,  1.45068594e+00],\n",
              "       [-2.12648508e-02, -5.77359062e-01],\n",
              "       [-6.04529329e-01,  1.88526701e+00],\n",
              "       [ 1.33968560e+00, -1.41754914e+00],\n",
              "       [ 1.43689635e+00,  9.87132798e-01],\n",
              "       [ 7.59458956e-02, -8.09135634e-01],\n",
              "       [-2.12648508e-02, -2.58666276e-01],\n",
              "       [-2.15686344e-01, -5.77359062e-01],\n",
              "       [-2.15686344e-01, -2.00722133e-01],\n",
              "       [-3.12897090e-01, -1.30166085e+00],\n",
              "       [-3.12897090e-01, -5.77359062e-01],\n",
              "       [ 3.67578135e-01,  8.89985821e-02],\n",
              "       [ 8.53631867e-01, -6.06331134e-01],\n",
              "       [ 2.02016082e+00, -1.18577256e+00],\n",
              "       [ 1.04805336e+00, -1.42777990e-01],\n",
              "       [ 6.59210374e-01,  1.76937873e+00],\n",
              "       [-7.01740076e-01,  5.52551726e-01],\n",
              "       [ 7.56421121e-01,  3.49747226e-01],\n",
              "       [ 8.53631867e-01, -5.48386991e-01],\n",
              "       [-1.18779381e+00, -1.59138156e+00],\n",
              "       [ 2.11737157e+00,  9.29188655e-01],\n",
              "       [-2.12648508e-02,  1.21890937e+00],\n",
              "       [ 1.73156642e-01,  1.07404901e+00],\n",
              "       [ 3.67578135e-01, -4.90442848e-01],\n",
              "       [-3.12897090e-01, -3.16610419e-01],\n",
              "       [ 9.50842613e-01, -8.38107706e-01],\n",
              "       [ 9.50842613e-01,  1.85629494e+00],\n",
              "       [-2.12648508e-02,  1.24788144e+00],\n",
              "       [-8.96161568e-01,  2.26190394e+00],\n",
              "       [-1.18779381e+00, -1.59138156e+00],\n",
              "       [ 2.11737157e+00, -8.09135634e-01],\n",
              "       [-1.38221530e+00, -1.47549328e+00],\n",
              "       [ 3.67578135e-01,  2.29087602e+00],\n",
              "       [ 7.56421121e-01,  7.55356227e-01],\n",
              "       [-9.93372315e-01, -3.16610419e-01],\n",
              "       [ 7.59458956e-02,  7.55356227e-01],\n",
              "       [-9.93372315e-01,  5.52551726e-01],\n",
              "       [ 2.70367388e-01,  6.00265106e-02],\n",
              "       [ 6.59210374e-01, -1.27268878e+00],\n",
              "       [-5.07318583e-01, -2.68897039e-02],\n",
              "       [-1.77105829e+00,  3.49747226e-01],\n",
              "       [-7.01740076e-01,  1.17970654e-01],\n",
              "       [ 3.67578135e-01,  2.91803083e-01],\n",
              "       [-3.12897090e-01,  6.00265106e-02],\n",
              "       [-5.07318583e-01,  2.29087602e+00],\n",
              "       [ 1.73156642e-01,  3.10544391e-02],\n",
              "       [ 1.24247485e+00,  2.20395980e+00],\n",
              "       [ 7.56421121e-01,  2.62831011e-01],\n",
              "       [-3.12897090e-01,  1.46942725e-01],\n",
              "       [-2.12648508e-02, -5.48386991e-01],\n",
              "       [-2.15686344e-01,  1.46942725e-01],\n",
              "       [-1.18475597e-01,  2.33858940e-01],\n",
              "       [-2.12648508e-02, -2.58666276e-01],\n",
              "       [ 2.11737157e+00,  1.10302108e+00],\n",
              "       [-1.77105829e+00,  3.49747226e-01],\n",
              "       [ 1.82573933e+00,  1.17970654e-01],\n",
              "       [ 3.67578135e-01, -1.42777990e-01],\n",
              "       [-1.18779381e+00,  2.91803083e-01],\n",
              "       [ 7.56421121e-01,  1.36376973e+00],\n",
              "       [-3.12897090e-01, -2.58666276e-01],\n",
              "       [-1.67384754e+00, -5.58617754e-02],\n",
              "       [-9.93372315e-01, -7.51191491e-01],\n",
              "       [ 2.70367388e-01,  4.94607583e-01],\n",
              "       [-1.18475597e-01, -1.06988428e+00],\n",
              "       [-1.09058306e+00,  5.81523798e-01],\n",
              "       [ 7.59458956e-02, -8.09135634e-01],\n",
              "       [-9.93372315e-01,  1.53760216e+00],\n",
              "       [-7.01740076e-01,  1.39274180e+00],\n",
              "       [-1.28500455e+00,  4.94607583e-01],\n",
              "       [-3.12897090e-01,  3.10544391e-02],\n",
              "       [-1.18475597e-01,  2.08236764e-03],\n",
              "       [-3.12897090e-01, -8.96051849e-01],\n",
              "       [ 8.53631867e-01, -1.35960499e+00],\n",
              "       [-3.12897090e-01,  2.23293187e+00],\n",
              "       [ 9.50842613e-01,  1.97218323e+00],\n",
              "       [-1.18779381e+00,  4.65635512e-01],\n",
              "       [-1.28500455e+00,  2.62831011e-01],\n",
              "       [ 1.33968560e+00,  1.97218323e+00],\n",
              "       [ 1.24247485e+00, -1.35960499e+00],\n",
              "       [-3.12897090e-01, -2.87638347e-01],\n",
              "       [-5.07318583e-01,  1.24788144e+00],\n",
              "       [-7.98950822e-01,  1.07404901e+00],\n",
              "       [ 9.50842613e-01, -1.06988428e+00],\n",
              "       [ 2.70367388e-01,  2.91803083e-01],\n",
              "       [ 9.50842613e-01,  7.55356227e-01],\n",
              "       [-7.01740076e-01, -1.50446535e+00],\n",
              "       [-7.01740076e-01,  3.10544391e-02],\n",
              "       [ 4.64788881e-01,  1.71143459e+00],\n",
              "       [ 2.02016082e+00,  1.75914797e-01],\n",
              "       [-1.96547978e+00, -7.51191491e-01],\n",
              "       [-2.15686344e-01,  1.39274180e+00],\n",
              "       [ 3.67578135e-01,  5.81523798e-01],\n",
              "       [ 8.53631867e-01, -1.15680049e+00],\n",
              "       [-1.18779381e+00, -7.80163563e-01],\n",
              "       [ 1.73156642e-01,  2.33858940e-01],\n",
              "       [ 7.56421121e-01, -3.16610419e-01],\n",
              "       [ 2.02016082e+00, -8.09135634e-01],\n",
              "       [ 7.56421121e-01,  1.17970654e-01],\n",
              "       [-3.12897090e-01,  6.10495869e-01],\n",
              "       [-9.93372315e-01, -3.16610419e-01],\n",
              "       [ 1.73156642e-01, -3.74554562e-01],\n",
              "       [ 2.02016082e+00,  2.11704359e+00],\n",
              "       [ 1.82573933e+00, -1.27268878e+00],\n",
              "       [ 1.33968560e+00, -9.25023920e-01],\n",
              "       [ 8.53631867e-01,  1.24788144e+00],\n",
              "       [ 1.43689635e+00,  2.11704359e+00],\n",
              "       [-3.12897090e-01, -1.24371671e+00],\n",
              "       [ 1.92295008e+00,  9.00216584e-01],\n",
              "       [ 6.59210374e-01, -7.22219420e-01],\n",
              "       [-1.47942605e+00,  3.49747226e-01],\n",
              "       [ 7.56421121e-01, -1.35960499e+00],\n",
              "       [ 3.67578135e-01, -1.42777990e-01],\n",
              "       [-9.93372315e-01,  4.07691369e-01],\n",
              "       [-2.12648508e-02, -3.16610419e-01],\n",
              "       [-1.18779381e+00,  4.07691369e-01],\n",
              "       [-8.96161568e-01, -1.21474464e+00],\n",
              "       [-1.18475597e-01,  3.10544391e-02],\n",
              "       [-1.57663679e+00, -4.32498705e-01],\n",
              "       [ 9.50842613e-01, -1.01194013e+00],\n",
              "       [ 1.04805336e+00, -1.21474464e+00],\n",
              "       [-2.12648508e-02, -1.42777990e-01],\n",
              "       [-1.09058306e+00, -1.53343742e+00],\n",
              "       [ 7.56421121e-01, -1.21474464e+00],\n",
              "       [ 9.50842613e-01,  2.05909944e+00],\n",
              "       [-1.18779381e+00, -1.53343742e+00],\n",
              "       [-3.12897090e-01,  7.84328298e-01],\n",
              "       [ 7.59458956e-02, -3.16610419e-01],\n",
              "       [-1.38221530e+00, -1.24371671e+00],\n",
              "       [-6.04529329e-01, -1.50446535e+00],\n",
              "       [ 7.56421121e-01,  5.23579655e-01],\n",
              "       [-3.12897090e-01, -3.45582490e-01],\n",
              "       [ 1.72852858e+00, -2.87638347e-01],\n",
              "       [ 8.53631867e-01, -1.04091221e+00],\n",
              "       [ 1.73156642e-01,  6.00265106e-02],\n",
              "       [-6.04529329e-01,  8.71244512e-01],\n",
              "       [-1.86826903e+00, -1.41754914e+00],\n",
              "       [-1.28500455e+00,  5.81523798e-01],\n",
              "       [-3.12897090e-01,  5.23579655e-01],\n",
              "       [-9.93372315e-01, -1.09885635e+00],\n",
              "       [ 1.14526411e+00, -1.44652121e+00],\n",
              "       [ 1.73156642e-01, -3.16610419e-01],\n",
              "       [ 1.14526411e+00, -7.51191491e-01],\n",
              "       [-3.12897090e-01,  6.00265106e-02],\n",
              "       [ 1.73156642e-01,  2.08807152e+00],\n",
              "       [ 7.56421121e-01, -1.09885635e+00],\n",
              "       [ 7.59458956e-02,  3.10544391e-02],\n",
              "       [-1.77105829e+00,  1.17970654e-01],\n",
              "       [-8.96161568e-01,  1.46942725e-01],\n",
              "       [-7.01740076e-01,  1.75914797e-01],\n",
              "       [ 8.53631867e-01, -1.30166085e+00],\n",
              "       [ 1.73156642e-01, -2.58666276e-01],\n",
              "       [-4.10107836e-01,  1.21890937e+00],\n",
              "       [-2.12648508e-02,  2.91803083e-01],\n",
              "       [ 3.67578135e-01,  1.46942725e-01],\n",
              "       [ 8.53631867e-01, -6.64275277e-01],\n",
              "       [ 7.59458956e-02,  1.46942725e-01],\n",
              "       [-1.86826903e+00, -1.30166085e+00],\n",
              "       [-1.18475597e-01,  2.91803083e-01],\n",
              "       [-2.15686344e-01, -2.87638347e-01],\n",
              "       [ 2.70367388e-01, -5.19414919e-01],\n",
              "       [-2.15686344e-01,  1.59554630e+00],\n",
              "       [ 9.50842613e-01, -1.18577256e+00],\n",
              "       [-2.15686344e-01,  1.62451837e+00],\n",
              "       [ 1.24247485e+00,  1.85629494e+00],\n",
              "       [-1.09058306e+00, -3.74554562e-01],\n",
              "       [-2.12648508e-02,  3.10544391e-02],\n",
              "       [ 7.59458956e-02, -2.58666276e-01],\n",
              "       [-1.57663679e+00, -1.24371671e+00],\n",
              "       [-5.07318583e-01, -2.87638347e-01],\n",
              "       [ 9.50842613e-01,  1.17970654e-01],\n",
              "       [ 1.92295008e+00, -1.35960499e+00],\n",
              "       [ 1.43689635e+00,  6.00265106e-02],\n",
              "       [-6.04529329e-01,  1.36376973e+00],\n",
              "       [ 1.53410709e+00,  2.08236764e-03],\n",
              "       [-7.98950822e-01,  2.91803083e-01],\n",
              "       [ 1.92295008e+00,  7.26384155e-01],\n",
              "       [-1.18779381e+00, -5.19414919e-01],\n",
              "       [ 6.59210374e-01,  2.62831011e-01],\n",
              "       [-1.38221530e+00, -4.32498705e-01],\n",
              "       [ 1.73156642e-01,  1.46942725e-01],\n",
              "       [-5.07318583e-01, -1.21474464e+00],\n",
              "       [ 5.61999628e-01,  2.00115530e+00],\n",
              "       [-1.57663679e+00, -1.50446535e+00],\n",
              "       [-5.07318583e-01, -5.48386991e-01],\n",
              "       [ 4.64788881e-01,  1.82732287e+00],\n",
              "       [-1.38221530e+00, -1.09885635e+00],\n",
              "       [ 7.56421121e-01, -1.38857706e+00],\n",
              "       [-3.12897090e-01, -4.32498705e-01],\n",
              "       [ 1.53410709e+00,  9.87132798e-01],\n",
              "       [ 9.50842613e-01,  1.42171387e+00],\n",
              "       [-3.12897090e-01, -4.90442848e-01],\n",
              "       [-1.18475597e-01,  2.14601566e+00],\n",
              "       [-1.47942605e+00, -1.13805918e-01],\n",
              "       [-1.18475597e-01,  1.94321116e+00],\n",
              "       [-7.01740076e-01, -3.45582490e-01],\n",
              "       [-5.07318583e-01, -8.38107706e-01],\n",
              "       [ 6.59210374e-01, -1.38857706e+00],\n",
              "       [-7.98950822e-01, -1.59138156e+00],\n",
              "       [-1.86826903e+00, -1.47549328e+00],\n",
              "       [ 1.04805336e+00,  1.17970654e-01],\n",
              "       [ 7.59458956e-02,  1.50863009e+00],\n",
              "       [-3.12897090e-01,  8.89985821e-02],\n",
              "       [ 7.59458956e-02,  3.10544391e-02],\n",
              "       [-1.38221530e+00, -1.35960499e+00],\n",
              "       [ 2.70367388e-01,  6.00265106e-02],\n",
              "       [-8.96161568e-01,  3.78719297e-01],\n",
              "       [ 1.53410709e+00, -1.27268878e+00],\n",
              "       [-3.12897090e-01, -7.51191491e-01],\n",
              "       [-1.18475597e-01,  1.46942725e-01],\n",
              "       [-8.96161568e-01, -6.64275277e-01],\n",
              "       [-7.01740076e-01, -5.58617754e-02],\n",
              "       [ 3.67578135e-01, -4.61470776e-01],\n",
              "       [-7.98950822e-01,  1.88526701e+00],\n",
              "       [ 1.33968560e+00,  1.27685351e+00],\n",
              "       [ 1.14526411e+00, -9.82968063e-01],\n",
              "       [ 1.72852858e+00,  1.82732287e+00],\n",
              "       [-8.96161568e-01, -2.58666276e-01],\n",
              "       [-7.98950822e-01,  5.52551726e-01],\n",
              "       [-1.18779381e+00, -1.56240949e+00],\n",
              "       [-5.07318583e-01, -1.12782842e+00],\n",
              "       [ 2.70367388e-01,  6.00265106e-02],\n",
              "       [-2.15686344e-01, -1.06988428e+00],\n",
              "       [ 1.63131784e+00,  1.59554630e+00],\n",
              "       [ 9.50842613e-01,  1.76937873e+00],\n",
              "       [ 2.70367388e-01,  3.10544391e-02],\n",
              "       [-7.98950822e-01, -2.29694204e-01],\n",
              "       [-1.18475597e-01,  6.00265106e-02],\n",
              "       [ 2.70367388e-01, -2.00722133e-01],\n",
              "       [ 1.92295008e+00, -6.64275277e-01],\n",
              "       [-7.98950822e-01,  1.33479766e+00],\n",
              "       [-1.77105829e+00, -6.06331134e-01],\n",
              "       [-1.18475597e-01,  1.17970654e-01],\n",
              "       [ 2.70367388e-01, -3.16610419e-01],\n",
              "       [ 1.04805336e+00,  5.52551726e-01],\n",
              "       [-9.93372315e-01,  2.62831011e-01],\n",
              "       [ 1.43689635e+00,  3.49747226e-01],\n",
              "       [ 1.73156642e-01, -3.74554562e-01],\n",
              "       [ 2.11737157e+00, -1.04091221e+00],\n",
              "       [-3.12897090e-01,  1.10302108e+00],\n",
              "       [-1.67384754e+00,  6.00265106e-02],\n",
              "       [-2.12648508e-02,  3.10544391e-02],\n",
              "       [ 7.59458956e-02,  1.04507694e+00],\n",
              "       [-1.18475597e-01, -3.74554562e-01],\n",
              "       [-1.18779381e+00,  6.00265106e-02],\n",
              "       [-3.12897090e-01, -1.35960499e+00],\n",
              "       [ 1.53410709e+00,  1.10302108e+00],\n",
              "       [-7.98950822e-01, -1.53343742e+00],\n",
              "       [ 7.59458956e-02,  1.85629494e+00],\n",
              "       [-8.96161568e-01, -7.80163563e-01],\n",
              "       [-5.07318583e-01, -7.80163563e-01],\n",
              "       [-3.12897090e-01, -9.25023920e-01],\n",
              "       [ 2.70367388e-01, -7.22219420e-01],\n",
              "       [ 2.70367388e-01,  6.00265106e-02],\n",
              "       [ 7.59458956e-02,  1.85629494e+00],\n",
              "       [-1.09058306e+00,  1.94321116e+00],\n",
              "       [-1.67384754e+00, -1.56240949e+00],\n",
              "       [-1.18779381e+00, -1.09885635e+00],\n",
              "       [-7.01740076e-01, -1.13805918e-01],\n",
              "       [ 7.59458956e-02,  8.89985821e-02],\n",
              "       [ 2.70367388e-01,  2.62831011e-01],\n",
              "       [ 8.53631867e-01, -5.77359062e-01],\n",
              "       [ 2.70367388e-01, -1.15680049e+00],\n",
              "       [-1.18475597e-01,  6.68440012e-01],\n",
              "       [ 2.11737157e+00, -6.93247348e-01],\n",
              "       [-1.28500455e+00, -1.38857706e+00],\n",
              "       [-9.93372315e-01, -9.53995992e-01],\n",
              "       [-2.12648508e-02, -4.32498705e-01],\n",
              "       [-2.15686344e-01, -4.61470776e-01],\n",
              "       [-1.77105829e+00, -9.82968063e-01],\n",
              "       [ 1.72852858e+00,  9.87132798e-01],\n",
              "       [ 1.73156642e-01, -3.74554562e-01],\n",
              "       [ 3.67578135e-01,  1.10302108e+00],\n",
              "       [-1.77105829e+00, -1.35960499e+00],\n",
              "       [ 1.73156642e-01, -1.42777990e-01],\n",
              "       [ 8.53631867e-01, -1.44652121e+00],\n",
              "       [-1.96547978e+00,  4.65635512e-01],\n",
              "       [-3.12897090e-01,  2.62831011e-01],\n",
              "       [ 1.82573933e+00, -1.06988428e+00],\n",
              "       [-4.10107836e-01,  6.00265106e-02],\n",
              "       [ 1.04805336e+00, -8.96051849e-01],\n",
              "       [-1.09058306e+00, -1.12782842e+00],\n",
              "       [-1.86826903e+00,  2.08236764e-03],\n",
              "       [ 7.59458956e-02,  2.62831011e-01],\n",
              "       [-1.18779381e+00,  3.20775154e-01],\n",
              "       [-1.28500455e+00,  2.91803083e-01],\n",
              "       [-9.93372315e-01,  4.36663440e-01],\n",
              "       [ 1.63131784e+00, -8.96051849e-01],\n",
              "       [ 1.14526411e+00,  5.23579655e-01],\n",
              "       [ 1.04805336e+00,  5.23579655e-01],\n",
              "       [ 1.33968560e+00,  2.31984809e+00],\n",
              "       [-3.12897090e-01, -1.42777990e-01],\n",
              "       [ 3.67578135e-01, -4.61470776e-01],\n",
              "       [-4.10107836e-01, -7.80163563e-01],\n",
              "       [-1.18475597e-01, -5.19414919e-01],\n",
              "       [ 9.50842613e-01, -1.15680049e+00],\n",
              "       [-8.96161568e-01, -7.80163563e-01],\n",
              "       [-2.15686344e-01, -5.19414919e-01],\n",
              "       [-1.09058306e+00, -4.61470776e-01],\n",
              "       [-1.18779381e+00,  1.39274180e+00]])"
            ]
          },
          "metadata": {},
          "execution_count": 4
        }
      ]
    },
    {
      "cell_type": "code",
      "source": [
        "from sklearn.linear_model import LogisticRegression\n",
        "classifier = LogisticRegression(random_state = 0)\n",
        "classifier.fit(X_train, y_train)"
      ],
      "metadata": {
        "colab": {
          "base_uri": "https://localhost:8080/",
          "height": 74
        },
        "id": "zunxRm6tS7YW",
        "outputId": "7889a9d2-4037-4075-8ee8-8c59eb4ec8b6"
      },
      "execution_count": 5,
      "outputs": [
        {
          "output_type": "execute_result",
          "data": {
            "text/plain": [
              "LogisticRegression(random_state=0)"
            ],
            "text/html": [
              "<style>#sk-container-id-1 {color: black;background-color: white;}#sk-container-id-1 pre{padding: 0;}#sk-container-id-1 div.sk-toggleable {background-color: white;}#sk-container-id-1 label.sk-toggleable__label {cursor: pointer;display: block;width: 100%;margin-bottom: 0;padding: 0.3em;box-sizing: border-box;text-align: center;}#sk-container-id-1 label.sk-toggleable__label-arrow:before {content: \"▸\";float: left;margin-right: 0.25em;color: #696969;}#sk-container-id-1 label.sk-toggleable__label-arrow:hover:before {color: black;}#sk-container-id-1 div.sk-estimator:hover label.sk-toggleable__label-arrow:before {color: black;}#sk-container-id-1 div.sk-toggleable__content {max-height: 0;max-width: 0;overflow: hidden;text-align: left;background-color: #f0f8ff;}#sk-container-id-1 div.sk-toggleable__content pre {margin: 0.2em;color: black;border-radius: 0.25em;background-color: #f0f8ff;}#sk-container-id-1 input.sk-toggleable__control:checked~div.sk-toggleable__content {max-height: 200px;max-width: 100%;overflow: auto;}#sk-container-id-1 input.sk-toggleable__control:checked~label.sk-toggleable__label-arrow:before {content: \"▾\";}#sk-container-id-1 div.sk-estimator input.sk-toggleable__control:checked~label.sk-toggleable__label {background-color: #d4ebff;}#sk-container-id-1 div.sk-label input.sk-toggleable__control:checked~label.sk-toggleable__label {background-color: #d4ebff;}#sk-container-id-1 input.sk-hidden--visually {border: 0;clip: rect(1px 1px 1px 1px);clip: rect(1px, 1px, 1px, 1px);height: 1px;margin: -1px;overflow: hidden;padding: 0;position: absolute;width: 1px;}#sk-container-id-1 div.sk-estimator {font-family: monospace;background-color: #f0f8ff;border: 1px dotted black;border-radius: 0.25em;box-sizing: border-box;margin-bottom: 0.5em;}#sk-container-id-1 div.sk-estimator:hover {background-color: #d4ebff;}#sk-container-id-1 div.sk-parallel-item::after {content: \"\";width: 100%;border-bottom: 1px solid gray;flex-grow: 1;}#sk-container-id-1 div.sk-label:hover label.sk-toggleable__label {background-color: #d4ebff;}#sk-container-id-1 div.sk-serial::before {content: \"\";position: absolute;border-left: 1px solid gray;box-sizing: border-box;top: 0;bottom: 0;left: 50%;z-index: 0;}#sk-container-id-1 div.sk-serial {display: flex;flex-direction: column;align-items: center;background-color: white;padding-right: 0.2em;padding-left: 0.2em;position: relative;}#sk-container-id-1 div.sk-item {position: relative;z-index: 1;}#sk-container-id-1 div.sk-parallel {display: flex;align-items: stretch;justify-content: center;background-color: white;position: relative;}#sk-container-id-1 div.sk-item::before, #sk-container-id-1 div.sk-parallel-item::before {content: \"\";position: absolute;border-left: 1px solid gray;box-sizing: border-box;top: 0;bottom: 0;left: 50%;z-index: -1;}#sk-container-id-1 div.sk-parallel-item {display: flex;flex-direction: column;z-index: 1;position: relative;background-color: white;}#sk-container-id-1 div.sk-parallel-item:first-child::after {align-self: flex-end;width: 50%;}#sk-container-id-1 div.sk-parallel-item:last-child::after {align-self: flex-start;width: 50%;}#sk-container-id-1 div.sk-parallel-item:only-child::after {width: 0;}#sk-container-id-1 div.sk-dashed-wrapped {border: 1px dashed gray;margin: 0 0.4em 0.5em 0.4em;box-sizing: border-box;padding-bottom: 0.4em;background-color: white;}#sk-container-id-1 div.sk-label label {font-family: monospace;font-weight: bold;display: inline-block;line-height: 1.2em;}#sk-container-id-1 div.sk-label-container {text-align: center;}#sk-container-id-1 div.sk-container {/* jupyter's `normalize.less` sets `[hidden] { display: none; }` but bootstrap.min.css set `[hidden] { display: none !important; }` so we also need the `!important` here to be able to override the default hidden behavior on the sphinx rendered scikit-learn.org. See: https://github.com/scikit-learn/scikit-learn/issues/21755 */display: inline-block !important;position: relative;}#sk-container-id-1 div.sk-text-repr-fallback {display: none;}</style><div id=\"sk-container-id-1\" class=\"sk-top-container\"><div class=\"sk-text-repr-fallback\"><pre>LogisticRegression(random_state=0)</pre><b>In a Jupyter environment, please rerun this cell to show the HTML representation or trust the notebook. <br />On GitHub, the HTML representation is unable to render, please try loading this page with nbviewer.org.</b></div><div class=\"sk-container\" hidden><div class=\"sk-item\"><div class=\"sk-estimator sk-toggleable\"><input class=\"sk-toggleable__control sk-hidden--visually\" id=\"sk-estimator-id-1\" type=\"checkbox\" checked><label for=\"sk-estimator-id-1\" class=\"sk-toggleable__label sk-toggleable__label-arrow\">LogisticRegression</label><div class=\"sk-toggleable__content\"><pre>LogisticRegression(random_state=0)</pre></div></div></div></div></div>"
            ]
          },
          "metadata": {},
          "execution_count": 5
        }
      ]
    },
    {
      "cell_type": "code",
      "source": [
        "classifier.predict(sc.transform([[30, 87000]]))"
      ],
      "metadata": {
        "colab": {
          "base_uri": "https://localhost:8080/"
        },
        "id": "a9sI8kUxTIlP",
        "outputId": "68a4478c-dda1-44d2-de4d-1a3de43967d9"
      },
      "execution_count": 6,
      "outputs": [
        {
          "output_type": "execute_result",
          "data": {
            "text/plain": [
              "array([0])"
            ]
          },
          "metadata": {},
          "execution_count": 6
        }
      ]
    },
    {
      "cell_type": "code",
      "source": [
        "y_pred = classifier.predict(X_test)\n",
        "y_pred"
      ],
      "metadata": {
        "colab": {
          "base_uri": "https://localhost:8080/"
        },
        "id": "9ez3S-BuTcb9",
        "outputId": "164c831c-1218-45b8-ca6d-dd778da0a68e"
      },
      "execution_count": 8,
      "outputs": [
        {
          "output_type": "execute_result",
          "data": {
            "text/plain": [
              "array([0, 0, 0, 0, 0, 0, 0, 1, 0, 0, 0, 0, 0, 0, 0, 0, 0, 0, 1, 0, 0, 1,\n",
              "       0, 1, 0, 1, 0, 0, 0, 0, 0, 0, 1, 0, 0, 0, 0, 0, 0, 1, 0, 0, 0, 0,\n",
              "       1, 0, 0, 1, 0, 1, 1, 0, 0, 0, 1, 0, 0, 0, 0, 0, 0, 1, 0, 0, 0, 1,\n",
              "       0, 0, 0, 0, 1, 0, 0, 0, 0, 0, 1, 0, 1, 1])"
            ]
          },
          "metadata": {},
          "execution_count": 8
        }
      ]
    },
    {
      "cell_type": "code",
      "source": [
        "print(np.concatenate((y_test.reshape(len(y_test), 1), y_pred.reshape(len(y_pred), 1)), 1))"
      ],
      "metadata": {
        "colab": {
          "base_uri": "https://localhost:8080/"
        },
        "id": "8-es4GSDTpbt",
        "outputId": "f7a827d9-161d-4f53-fb33-fec856d4d3e9"
      },
      "execution_count": 12,
      "outputs": [
        {
          "output_type": "stream",
          "name": "stdout",
          "text": [
            "[[0 0]\n",
            " [0 0]\n",
            " [0 0]\n",
            " [0 0]\n",
            " [0 0]\n",
            " [0 0]\n",
            " [0 0]\n",
            " [1 1]\n",
            " [0 0]\n",
            " [0 0]\n",
            " [0 0]\n",
            " [0 0]\n",
            " [0 0]\n",
            " [0 0]\n",
            " [0 0]\n",
            " [0 0]\n",
            " [0 0]\n",
            " [0 0]\n",
            " [1 1]\n",
            " [0 0]\n",
            " [0 0]\n",
            " [1 1]\n",
            " [0 0]\n",
            " [1 1]\n",
            " [0 0]\n",
            " [1 1]\n",
            " [0 0]\n",
            " [0 0]\n",
            " [0 0]\n",
            " [0 0]\n",
            " [0 0]\n",
            " [1 0]\n",
            " [1 1]\n",
            " [0 0]\n",
            " [0 0]\n",
            " [0 0]\n",
            " [0 0]\n",
            " [0 0]\n",
            " [0 0]\n",
            " [1 1]\n",
            " [0 0]\n",
            " [0 0]\n",
            " [0 0]\n",
            " [0 0]\n",
            " [1 1]\n",
            " [0 0]\n",
            " [0 0]\n",
            " [1 1]\n",
            " [0 0]\n",
            " [1 1]\n",
            " [1 1]\n",
            " [0 0]\n",
            " [0 0]\n",
            " [0 0]\n",
            " [1 1]\n",
            " [1 0]\n",
            " [0 0]\n",
            " [0 0]\n",
            " [1 0]\n",
            " [0 0]\n",
            " [0 0]\n",
            " [1 1]\n",
            " [0 0]\n",
            " [1 0]\n",
            " [0 0]\n",
            " [1 1]\n",
            " [0 0]\n",
            " [0 0]\n",
            " [0 0]\n",
            " [0 0]\n",
            " [1 1]\n",
            " [0 0]\n",
            " [0 0]\n",
            " [1 0]\n",
            " [0 0]\n",
            " [0 0]\n",
            " [0 1]\n",
            " [0 0]\n",
            " [1 1]\n",
            " [1 1]]\n"
          ]
        }
      ]
    },
    {
      "cell_type": "code",
      "source": [
        "from sklearn.metrics import confusion_matrix, accuracy_score\n",
        "cm = confusion_matrix(y_test, y_pred)\n",
        "print(cm)\n",
        "accuracy_score(y_test, y_pred)"
      ],
      "metadata": {
        "colab": {
          "base_uri": "https://localhost:8080/"
        },
        "id": "NzgxASg0Vc34",
        "outputId": "2537f488-896c-4657-edf0-c55775344415"
      },
      "execution_count": 14,
      "outputs": [
        {
          "output_type": "stream",
          "name": "stdout",
          "text": [
            "[[57  1]\n",
            " [ 5 17]]\n"
          ]
        },
        {
          "output_type": "execute_result",
          "data": {
            "text/plain": [
              "0.925"
            ]
          },
          "metadata": {},
          "execution_count": 14
        }
      ]
    },
    {
      "cell_type": "code",
      "source": [
        "from matplotlib.colors import ListedColormap\n",
        "X_set, y_set = sc.inverse_transform(X_train), y_train\n",
        "X1, X2 = np.meshgrid(np.arange(start = X_set[:, 0].min() - 10, stop = X_set[:, 0].max() + 10, step = 0.25),\n",
        "                     np.arange(start = X_set[:, 1].min() - 1000, stop = X_set[:, 1].max() + 1000, step = 0.25))\n",
        "plt.contourf(X1, X2, classifier.predict(sc.transform(np.array([X1.ravel(), X2.ravel()]).T)).reshape(X1.shape),\n",
        "             alpha = 0.75, cmap = ListedColormap(('red', 'green')))\n",
        "plt.xlim(X1.min(), X1.max())\n",
        "plt.ylim(X2.min(), X2.max())\n",
        "for i, j in enumerate(np.unique(y_set)):\n",
        "    plt.scatter(X_set[y_set == j, 0], X_set[y_set == j, 1], c = ListedColormap(('red', 'green'))(i), label = j)\n",
        "plt.title('Logistic Regression (Training set)')\n",
        "plt.xlabel('Age')\n",
        "plt.ylabel('Estimated Salary')\n",
        "plt.legend()\n",
        "plt.show()"
      ],
      "metadata": {
        "colab": {
          "base_uri": "https://localhost:8080/",
          "height": 528
        },
        "id": "uJ7XfJahXt8N",
        "outputId": "78180ddc-75ee-4aec-80b2-3ba451007883"
      },
      "execution_count": 15,
      "outputs": [
        {
          "output_type": "stream",
          "name": "stderr",
          "text": [
            "<ipython-input-15-3277c112bab0>:10: UserWarning: *c* argument looks like a single numeric RGB or RGBA sequence, which should be avoided as value-mapping will have precedence in case its length matches with *x* & *y*.  Please use the *color* keyword-argument or provide a 2D array with a single row if you intend to specify the same RGB or RGBA value for all points.\n",
            "  plt.scatter(X_set[y_set == j, 0], X_set[y_set == j, 1], c = ListedColormap(('red', 'green'))(i), label = j)\n"
          ]
        },
        {
          "output_type": "display_data",
          "data": {
            "text/plain": [
              "<Figure size 640x480 with 1 Axes>"
            ],
            "image/png": "[encoded data removed]"
          },
          "metadata": {}
        }
      ]
    },
    {
      "cell_type": "code",
      "source": [
        "from matplotlib.colors import ListedColormap\n",
        "X_set, y_set = sc.inverse_transform(X_test), y_test\n",
        "X1, X2 = np.meshgrid(np.arange(start = X_set[:, 0].min() - 10, stop = X_set[:, 0].max() + 10, step = 0.25),\n",
        "                     np.arange(start = X_set[:, 1].min() - 1000, stop = X_set[:, 1].max() + 1000, step = 0.25))\n",
        "plt.contourf(X1, X2, classifier.predict(sc.transform(np.array([X1.ravel(), X2.ravel()]).T)).reshape(X1.shape),\n",
        "             alpha = 0.75, cmap = ListedColormap(('red', 'green')))\n",
        "plt.xlim(X1.min(), X1.max())\n",
        "plt.ylim(X2.min(), X2.max())\n",
        "for i, j in enumerate(np.unique(y_set)):\n",
        "    plt.scatter(X_set[y_set == j, 0], X_set[y_set == j, 1], c = ListedColormap(('red', 'green'))(i), label = j)\n",
        "plt.title('Logistic Regression (Test set)')\n",
        "plt.xlabel('Age')\n",
        "plt.ylabel('Estimated Salary')\n",
        "plt.legend()\n",
        "plt.show()"
      ],
      "metadata": {
        "colab": {
          "base_uri": "https://localhost:8080/",
          "height": 528
        },
        "id": "lDBiypWQX1i4",
        "outputId": "9473aa11-b1ac-4dea-d131-baf1ac967175"
      },
      "execution_count": 16,
      "outputs": [
        {
          "output_type": "stream",
          "name": "stderr",
          "text": [
            "<ipython-input-16-53d83417cfe6>:10: UserWarning: *c* argument looks like a single numeric RGB or RGBA sequence, which should be avoided as value-mapping will have precedence in case its length matches with *x* & *y*.  Please use the *color* keyword-argument or provide a 2D array with a single row if you intend to specify the same RGB or RGBA value for all points.\n",
            "  plt.scatter(X_set[y_set == j, 0], X_set[y_set == j, 1], c = ListedColormap(('red', 'green'))(i), label = j)\n"
          ]
        },
        {
          "output_type": "display_data",
          "data": {
            "text/plain": [
              "<Figure size 640x480 with 1 Axes>"
            ],
            "image/png": "[encoded data removed]"
          },
          "metadata": {}
        }
      ]
    }
  ]
}